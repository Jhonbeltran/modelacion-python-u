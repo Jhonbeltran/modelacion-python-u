{
 "cells": [
  {
   "cell_type": "markdown",
   "metadata": {},
   "source": [
    "# Algoritmo congruencial cuadrático"
   ]
  },
  {
   "cell_type": "code",
   "execution_count": 1,
   "metadata": {},
   "outputs": [],
   "source": [
    "def validar(x0,a,b,c):\n",
    "    while (x0<0):\n",
    "        x0  = int(input(\"Inserta un valor de semilla x0 positivo: \"))\n",
    "    while (a%2 != 0):\n",
    "        a  = int(input(\"Inserta un valor par para a: \"))\n",
    "    while (c%2 == 0):\n",
    "        c  = int(input(\"Inserta un valor impar para c: \"))\n",
    "    #while ((b-1)%4 != 1):\n",
    "        #b  = int(input(\"Inserta un valor valido para b: \"))\n",
    "    generar(x0,a,b,c) "
   ]
  },
  {
   "cell_type": "code",
   "execution_count": 2,
   "metadata": {},
   "outputs": [],
   "source": [
    "def generar(x0,a,b,c):\n",
    "    for i in range(n+1):\n",
    "        xi = ((a*(x0**2))+(b*x0)+c)%m\n",
    "        ri = xi/(m-1)\n",
    "        r.append(ri)\n",
    "        x0=xi"
   ]
  },
  {
   "cell_type": "code",
   "execution_count": 3,
   "metadata": {},
   "outputs": [],
   "source": [
    "def imprimir():\n",
    "    if(len(r)!=0):\n",
    "        print(\"Los {} números pseudoaleatorios son: \".format(n+1))\n",
    "    for idi, ri in enumerate(r):\n",
    "        print(\"{} : {}\".format(idi+1, ri))"
   ]
  },
  {
   "cell_type": "code",
   "execution_count": null,
   "metadata": {},
   "outputs": [
    {
     "name": "stdout",
     "output_type": "stream",
     "text": [
      "Inserta el valor semilla x0: 13\n",
      "Inserta la potencia de dos g que va a generar el número m: 3\n",
      "Inserta una constante a: 26\n",
      "Inserta una constante b: 27\n",
      "Inserta una constante c: 27\n",
      "Los 8 números pseudoaleatorios son: \n",
      "1 : 0.5714285714285714\n",
      "2 : 1.0\n",
      "3 : 0.2857142857142857\n",
      "4 : 0.14285714285714285\n",
      "5 : 0.0\n",
      "6 : 0.42857142857142855\n",
      "7 : 0.8571428571428571\n",
      "8 : 0.7142857142857143\n"
     ]
    }
   ],
   "source": [
    "if __name__ == '__main__':\n",
    "    while(True):\n",
    "        x0 = int(input(\"Inserta el valor semilla x0: \"))\n",
    "        m = 2 **(int(input(\"Inserta la potencia de dos g que va a generar el número m: \")))\n",
    "        a = int(input(\"Inserta una constante a: \"))\n",
    "        b = int(input(\"Inserta una constante b: \"))\n",
    "        c = int(input(\"Inserta una constante c: \"))\n",
    "        n = m-1\n",
    "        r = []\n",
    "        validar(x0,a,b,c)\n",
    "        imprimir()"
   ]
  }
 ],
 "metadata": {
  "kernelspec": {
   "display_name": "Python 3",
   "language": "python",
   "name": "python3"
  },
  "language_info": {
   "codemirror_mode": {
    "name": "ipython",
    "version": 3
   },
   "file_extension": ".py",
   "mimetype": "text/x-python",
   "name": "python",
   "nbconvert_exporter": "python",
   "pygments_lexer": "ipython3",
   "version": "3.6.3"
  }
 },
 "nbformat": 4,
 "nbformat_minor": 2
}
