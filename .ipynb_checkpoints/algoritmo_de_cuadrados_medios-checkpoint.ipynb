{
 "cells": [
  {
   "cell_type": "markdown",
   "metadata": {},
   "source": [
    "# Algoritmo de cuadrados medios"
   ]
  },
  {
   "cell_type": "code",
   "execution_count": 1,
   "metadata": {},
   "outputs": [
    {
     "name": "stdout",
     "output_type": "stream",
     "text": [
      "Inserte la cantidad de D digitos: 4\n",
      "Inserta el valor semilla x0: 1000\n",
      "¿Cuantos números pseudoaleatorios desea?: 10\n"
     ]
    }
   ],
   "source": [
    "D = int(input(\"Inserte la cantidad de D digitos: \"))\n",
    "x0  = int(input(\"Inserta el valor semilla x0: \"))\n",
    "n = int(input(\"¿Cuantos números pseudoaleatorios desea?: \"))-1\n",
    "r = []"
   ]
  },
  {
   "cell_type": "code",
   "execution_count": 2,
   "metadata": {},
   "outputs": [],
   "source": [
    "while ((len([int(digit) for digit in str(x0)])!=(D))):\n",
    "    x0  = int(input(\"Inserta un valor de semilla valido: \"))"
   ]
  },
  {
   "cell_type": "code",
   "execution_count": 3,
   "metadata": {},
   "outputs": [],
   "source": [
    "def digitos_centrales(s,k):\n",
    "    # Para asegurar que el número no sea negativo usamos el max(tupla)\n",
    "    m = max((len(s)-k)//2, 0) # El // es para que el resultado de la división sea entera\n",
    "    return s[m:m+k]"
   ]
  },
  {
   "cell_type": "code",
   "execution_count": 4,
   "metadata": {},
   "outputs": [
    {
     "name": "stdout",
     "output_type": "stream",
     "text": [
      "Error, la semilla no es valida para generar 10 numeros aleatorios\n"
     ]
    }
   ],
   "source": [
    "for i in range(n+1):\n",
    "    y0=x0**2\n",
    "    xi = int(digitos_centrales(str(y0),D))\n",
    "    ri = xi/10**D\n",
    "    if(ri<=0.0):\n",
    "        print(\"Error, la semilla no es valida para generar {} numeros aleatorios\".format(n+1))\n",
    "        break\n",
    "    r.append(ri)\n",
    "    x0=xi"
   ]
  },
  {
   "cell_type": "code",
   "execution_count": 5,
   "metadata": {},
   "outputs": [
    {
     "name": "stdout",
     "output_type": "stream",
     "text": [
      "Los 10 números pseudoaleatorios son: \n"
     ]
    }
   ],
   "source": [
    "print(\"Los {} números pseudoaleatorios son: \".format(n+1))\n",
    "j = 0\n",
    "for idi, ri in enumerate(r):\n",
    "    print(\"{} : {}\".format(idi+1, ri))"
   ]
  }
 ],
 "metadata": {
  "kernelspec": {
   "display_name": "Python 3",
   "language": "python",
   "name": "python3"
  },
  "language_info": {
   "codemirror_mode": {
    "name": "ipython",
    "version": 3
   },
   "file_extension": ".py",
   "mimetype": "text/x-python",
   "name": "python",
   "nbconvert_exporter": "python",
   "pygments_lexer": "ipython3",
   "version": "3.6.3"
  }
 },
 "nbformat": 4,
 "nbformat_minor": 2
}
