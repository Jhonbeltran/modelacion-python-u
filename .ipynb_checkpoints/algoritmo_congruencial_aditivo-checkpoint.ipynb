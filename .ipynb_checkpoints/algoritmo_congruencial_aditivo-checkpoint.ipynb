{
 "cells": [
  {
   "cell_type": "markdown",
   "metadata": {},
   "source": [
    "# Algoritmo congruencial aditivo"
   ]
  },
  {
   "cell_type": "code",
   "execution_count": 1,
   "metadata": {},
   "outputs": [],
   "source": [
    "def validar(x,m):\n",
    "    while (m<0):\n",
    "        m  = int(input(\"Inserta un valor m positivo: \"))\n",
    "    print(\"Validar\")\n",
    "    generar(x,m)"
   ]
  },
  {
   "cell_type": "code",
   "execution_count": 2,
   "metadata": {},
   "outputs": [],
   "source": [
    "def generar(x,m):\n",
    "    for i in range(cantidad):\n",
    "        x.append((x[len(x)-1]+x[i])%m)\n",
    "        ri = x[len(x)-1]/(m-1)\n",
    "        r.append(ri)"
   ]
  },
  {
   "cell_type": "code",
   "execution_count": 3,
   "metadata": {},
   "outputs": [],
   "source": [
    "def imprimir():\n",
    "    if(len(r)!=0):\n",
    "        print(\"Los {} números pseudoaleatorios son: \".format(n+1))\n",
    "    for idi, ri in enumerate(r):\n",
    "        print(\"{} : {}\".format(idi+1, ri))"
   ]
  },
  {
   "cell_type": "code",
   "execution_count": null,
   "metadata": {},
   "outputs": [
    {
     "name": "stdout",
     "output_type": "stream",
     "text": [
      "Ingrese la cantidad de dígitos n de su secuencia: 5\n",
      "Ingresa el valor de x1: 65\n",
      "Ingresa el valor de x2: 89\n",
      "Ingresa el valor de x3: 98\n",
      "Ingresa el valor de x4: 03\n",
      "Ingresa el valor de x5: 69\n",
      "[65, 89, 98, 3, 69]\n",
      "Ingresa el valor del modulo m: 100\n",
      "¿Cuantos números desea generar?7\n",
      "Validar\n",
      "Los 6 números pseudoaleatorios son: \n",
      "1 : 0.3434343434343434\n",
      "2 : 0.23232323232323232\n",
      "3 : 0.21212121212121213\n",
      "4 : 0.24242424242424243\n",
      "5 : 0.9393939393939394\n",
      "6 : 0.2727272727272727\n",
      "7 : 0.5050505050505051\n"
     ]
    }
   ],
   "source": [
    "if __name__ == '__main__':\n",
    "    while(True):\n",
    "        n = int(input(\"Ingrese la cantidad de dígitos n de su secuencia: \"))\n",
    "        x = []\n",
    "        for i in range(n):\n",
    "            x.append(int(input(\"Ingresa el valor de x{}: \".format(i+1))))\n",
    "        print(x)\n",
    "        m = int(input(\"Ingresa el valor del modulo m: \"))\n",
    "        cantidad = int(input(\"¿Cuantos números desea generar?\"))\n",
    "        r = []\n",
    "        validar(x,m)\n",
    "        imprimir()"
   ]
  },
  {
   "cell_type": "code",
   "execution_count": null,
   "metadata": {},
   "outputs": [],
   "source": []
  }
 ],
 "metadata": {
  "kernelspec": {
   "display_name": "Python 3",
   "language": "python",
   "name": "python3"
  },
  "language_info": {
   "codemirror_mode": {
    "name": "ipython",
    "version": 3
   },
   "file_extension": ".py",
   "mimetype": "text/x-python",
   "name": "python",
   "nbconvert_exporter": "python",
   "pygments_lexer": "ipython3",
   "version": "3.6.3"
  }
 },
 "nbformat": 4,
 "nbformat_minor": 2
}
