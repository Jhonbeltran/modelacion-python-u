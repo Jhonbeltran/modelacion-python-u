{
 "cells": [
  {
   "cell_type": "markdown",
   "metadata": {},
   "source": [
    "# Números pseudoaleatorios\n",
    "Tipos de Algoritmos\n",
    "***"
   ]
  },
  {
   "cell_type": "markdown",
   "metadata": {},
   "source": [
    "## Algoritmo de cuadrados medios"
   ]
  },
  {
   "cell_type": "code",
   "execution_count": 1,
   "metadata": {},
   "outputs": [
    {
     "name": "stdout",
     "output_type": "stream",
     "text": [
      "Inserta el valor semilla x05735\n",
      "Inserte la cantidad de D digitos4\n",
      "¿Cuantos números pseudoaleatorios desea?5\n"
     ]
    }
   ],
   "source": [
    "x0  = int(input(\"Inserta el valor semilla x0\"))\n",
    "D = int(input(\"Inserte la cantidad de D digitos\"))\n",
    "n = int(input(\"¿Cuantos números pseudoaleatorios desea?\"))-1\n",
    "r = []"
   ]
  },
  {
   "cell_type": "code",
   "execution_count": 2,
   "metadata": {},
   "outputs": [],
   "source": [
    "while(x0<110):\n",
    "    x0  = int(input(\"Inserta un valor de semilla más grande\"))"
   ]
  },
  {
   "cell_type": "code",
   "execution_count": 3,
   "metadata": {},
   "outputs": [],
   "source": [
    "def digitos_centrales(s,k):\n",
    "    # Para asegurar que el número no sea negativo usamos el max(tupla)\n",
    "    m = max((len(s)-k)//2, 0) # El // es para que el resultado de la división sea entera\n",
    "    return s[m:m+k]"
   ]
  },
  {
   "cell_type": "code",
   "execution_count": 4,
   "metadata": {},
   "outputs": [],
   "source": [
    "for i in range(n+1):\n",
    "    y0=x0**2\n",
    "    xi = int(digitos_centrales(str(y0),D))\n",
    "    ri = xi/10**D\n",
    "    r.append(ri)\n",
    "    x0=xi"
   ]
  },
  {
   "cell_type": "code",
   "execution_count": 8,
   "metadata": {},
   "outputs": [
    {
     "name": "stdout",
     "output_type": "stream",
     "text": [
      "Los 5 números pseudoaleatorios son: \n",
      "1 : 0.8902\n",
      "2 : 0.2456\n",
      "3 : 0.0319\n",
      "4 : 0.0176\n",
      "5 : 0.3097\n"
     ]
    }
   ],
   "source": [
    "print(\"Los {} números pseudoaleatorios son: \".format(n+1))\n",
    "j = 0\n",
    "for idi, ri in enumerate(r):\n",
    "    print(\"{} : {}\".format(idi+1, ri))"
   ]
  },
  {
   "cell_type": "code",
   "execution_count": null,
   "metadata": {},
   "outputs": [],
   "source": []
  }
 ],
 "metadata": {
  "kernelspec": {
   "display_name": "Python 3",
   "language": "python",
   "name": "python3"
  },
  "language_info": {
   "codemirror_mode": {
    "name": "ipython",
    "version": 3
   },
   "file_extension": ".py",
   "mimetype": "text/x-python",
   "name": "python",
   "nbconvert_exporter": "python",
   "pygments_lexer": "ipython3",
   "version": "3.6.3"
  }
 },
 "nbformat": 4,
 "nbformat_minor": 2
}
