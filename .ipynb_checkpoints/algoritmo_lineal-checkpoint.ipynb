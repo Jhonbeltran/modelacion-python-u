{
 "cells": [
  {
   "cell_type": "markdown",
   "metadata": {},
   "source": [
    "# Algoritmo Lineal"
   ]
  },
  {
   "cell_type": "code",
   "execution_count": 1,
   "metadata": {},
   "outputs": [],
   "source": [
    "def validar(x0,a,c,m):\n",
    "    while (x0<0):\n",
    "        x0  = int(input(\"Inserta un valor de semilla x0 positivo: \"))\n",
    "    while (a<0):\n",
    "        a  = int(input(\"Inserta un valor a positivo: \"))\n",
    "    while (c<0):\n",
    "        c  = int(input(\"Inserta un valor c mayor a 0, si desea que c sea igual a 0 use el algoritmo congruencial multiplicativo: \"))\n",
    "    while (m<0):\n",
    "        m  = int(input(\"Inserta un valor m positivo: \"))\n",
    "    #Falta validar que c sea relativamente primo a m\n",
    "    generar(x0,a,c,m)  "
   ]
  },
  {
   "cell_type": "code",
   "execution_count": 2,
   "metadata": {},
   "outputs": [],
   "source": [
    "def generar(x0,a,c,m):\n",
    "    for i in range(n+1):\n",
    "        xi = ((a*x0)+c)%m\n",
    "        ri = xi/(m-1)\n",
    "        r.append(ri)\n",
    "        x0=xi"
   ]
  },
  {
   "cell_type": "code",
   "execution_count": 3,
   "metadata": {},
   "outputs": [],
   "source": [
    "def imprimir():\n",
    "    if(len(r)!=0):\n",
    "        print(\"Los {} números pseudoaleatorios son: \".format(n+1))\n",
    "    for idi, ri in enumerate(r):\n",
    "        print(\"{} : {}\".format(idi+1, ri))"
   ]
  },
  {
   "cell_type": "code",
   "execution_count": null,
   "metadata": {},
   "outputs": [
    {
     "name": "stdout",
     "output_type": "stream",
     "text": [
      "Inserta el valor semilla x0: 6\n",
      "Inserta una constante k que va a generar la constante multiplicativa a: 3\n",
      "Inserta una constante multiplicativa c: 7\n",
      "Inserta la potencia de dos g que va a generar el número m: 3\n",
      "Los 8 números pseudoaleatorios son: \n",
      "1 : 0.7142857142857143\n",
      "2 : 0.0\n",
      "3 : 1.0\n",
      "4 : 0.2857142857142857\n",
      "5 : 0.14285714285714285\n",
      "6 : 0.5714285714285714\n",
      "7 : 0.42857142857142855\n",
      "8 : 0.8571428571428571\n"
     ]
    }
   ],
   "source": [
    "if __name__ == '__main__':\n",
    "    while(True):\n",
    "        x0 = int(input(\"Inserta el valor semilla x0: \"))\n",
    "        a = 1 + 4*(int(input(\"Inserta una constante k que va a generar la constante multiplicativa a: \")))\n",
    "        c = int(input(\"Inserta una constante aditiva c: \"))\n",
    "        m = 2 ** (int(input(\"Inserta la potencia de dos g que va a generar el número m: \")))\n",
    "        n = m-1\n",
    "        r = []\n",
    "        validar(x0,a,c,m)\n",
    "        imprimir()"
   ]
  }
 ],
 "metadata": {
  "kernelspec": {
   "display_name": "Python 3",
   "language": "python",
   "name": "python3"
  },
  "language_info": {
   "codemirror_mode": {
    "name": "ipython",
    "version": 3
   },
   "file_extension": ".py",
   "mimetype": "text/x-python",
   "name": "python",
   "nbconvert_exporter": "python",
   "pygments_lexer": "ipython3",
   "version": "3.6.3"
  }
 },
 "nbformat": 4,
 "nbformat_minor": 2
}
