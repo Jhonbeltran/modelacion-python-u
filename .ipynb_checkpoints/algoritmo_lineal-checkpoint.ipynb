{
 "cells": [
  {
   "cell_type": "markdown",
   "metadata": {},
   "source": [
    "# Algoritmo Lineal"
   ]
  },
  {
   "cell_type": "code",
   "execution_count": 1,
   "metadata": {},
   "outputs": [],
   "source": [
    "def validar(x0,a,c,m):\n",
    "    while (x0<0):\n",
    "        x0  = int(input(\"Inserta un valor de semilla x0 positivo: \"))\n",
    "    while (a<0):\n",
    "        a  = int(input(\"Inserta un valor a positivo: \"))\n",
    "    while (c<0):\n",
    "        c  = int(input(\"Inserta un valor c positivo: \"))\n",
    "    while (m<0):\n",
    "        m  = int(input(\"Inserta un valor m positivo: \"))\n",
    "    #Falta validar que c sea relativamente primo a m\n",
    "    generar(x0,a,c,m)  "
   ]
  },
  {
   "cell_type": "code",
   "execution_count": 2,
   "metadata": {},
   "outputs": [],
   "source": [
    "def generar(x0,a,c,m):\n",
    "    for i in range(n+1):\n",
    "        xi = ((a*x0)+c)%m\n",
    "        ri = xi/(m-1)\n",
    "        r.append(ri)\n",
    "        x0=xi"
   ]
  },
  {
   "cell_type": "code",
   "execution_count": 3,
   "metadata": {},
   "outputs": [],
   "source": [
    "def imprimir():\n",
    "    if(len(r)!=0):\n",
    "        print(\"Los {} números pseudoaleatorios son: \".format(n+1))\n",
    "    for idi, ri in enumerate(r):\n",
    "        print(\"{} : {}\".format(idi+1, ri))"
   ]
  },
  {
   "cell_type": "code",
   "execution_count": null,
   "metadata": {},
   "outputs": [
    {
     "name": "stdout",
     "output_type": "stream",
     "text": [
      "Inserta el valor semilla x0: 6\n",
      "Inserta una constante k que va a generar la constante multiplicativa a: 3\n",
      "Inserta una constante multiplicativa c: 7\n",
      "Inserta la potencia de dos g que va a generar el número m: 4\n",
      "5\n",
      "8\n",
      "15\n",
      "10\n",
      "9\n",
      "12\n",
      "3\n",
      "14\n",
      "13\n",
      "0\n",
      "7\n",
      "2\n",
      "1\n",
      "4\n",
      "11\n",
      "6\n",
      "Los 16 números pseudoaleatorios son: \n",
      "1 : 0.3333333333333333\n",
      "2 : 0.5333333333333333\n",
      "3 : 1.0\n",
      "4 : 0.6666666666666666\n",
      "5 : 0.6\n",
      "6 : 0.8\n",
      "7 : 0.2\n",
      "8 : 0.9333333333333333\n",
      "9 : 0.8666666666666667\n",
      "10 : 0.0\n",
      "11 : 0.4666666666666667\n",
      "12 : 0.13333333333333333\n",
      "13 : 0.06666666666666667\n",
      "14 : 0.26666666666666666\n",
      "15 : 0.7333333333333333\n",
      "16 : 0.4\n"
     ]
    }
   ],
   "source": [
    "if __name__ == '__main__':\n",
    "    while(True):\n",
    "        x0 = int(input(\"Inserta el valor semilla x0: \"))\n",
    "        a = 1 + 4*(int(input(\"Inserta una constante k que va a generar la constante multiplicativa a: \")))\n",
    "        c = int(input(\"Inserta una constante multiplicativa c: \"))\n",
    "        m = 2 ** (int(input(\"Inserta la potencia de dos g que va a generar el número m: \")))\n",
    "        n = m-1\n",
    "        r = []\n",
    "        validar(x0,a,c,m)\n",
    "        imprimir()"
   ]
  }
 ],
 "metadata": {
  "kernelspec": {
   "display_name": "Python 3",
   "language": "python",
   "name": "python3"
  },
  "language_info": {
   "codemirror_mode": {
    "name": "ipython",
    "version": 3
   },
   "file_extension": ".py",
   "mimetype": "text/x-python",
   "name": "python",
   "nbconvert_exporter": "python",
   "pygments_lexer": "ipython3",
   "version": "3.6.3"
  }
 },
 "nbformat": 4,
 "nbformat_minor": 2
}
