{
 "cells": [
  {
   "cell_type": "markdown",
   "metadata": {},
   "source": [
    "# Algoritmo congruencial multiplicativo"
   ]
  },
  {
   "cell_type": "code",
   "execution_count": 1,
   "metadata": {},
   "outputs": [],
   "source": [
    "def validar(x0,a,m):\n",
    "    while (x0<0):\n",
    "        x0  = int(input(\"Inserta un valor de semilla x0 positivo: \"))\n",
    "    while (a<0):\n",
    "        a  = int(input(\"Inserta un valor a positivo: \"))\n",
    "    while (m<0):\n",
    "        m  = int(input(\"Inserta un valor m positivo: \"))\n",
    "    #Falta validar que c sea relativamente primo a m\n",
    "    generar(x0,a,m)  "
   ]
  },
  {
   "cell_type": "code",
   "execution_count": 2,
   "metadata": {},
   "outputs": [],
   "source": [
    "def generar(x0,a,m):\n",
    "    for i in range(n+1):\n",
    "        xi = (a*x0)%m\n",
    "        ri = xi/(m-1)\n",
    "        r.append(ri)\n",
    "        x0=xi"
   ]
  },
  {
   "cell_type": "code",
   "execution_count": 3,
   "metadata": {},
   "outputs": [],
   "source": [
    "def imprimir():\n",
    "    if(len(r)!=0):\n",
    "        print(\"Los {} números pseudoaleatorios son: \".format(n+1))\n",
    "    for idi, ri in enumerate(r):\n",
    "        print(\"{} : {}\".format(idi+1, ri))"
   ]
  },
  {
   "cell_type": "code",
   "execution_count": null,
   "metadata": {},
   "outputs": [
    {
     "name": "stdout",
     "output_type": "stream",
     "text": [
      "El algoritmo congruencial m ultiplicativo surge del algoritmo congruencial lineal cuando c = 0\n",
      "Inserta el valor semilla x0: 17\n",
      "Inserta una constante k que va a generar la constante multiplicativa a: 2\n",
      "Inserta la potencia de dos g que va a generar el número m: 5\n",
      "Los 9 números pseudoaleatorios son: \n",
      "1 : 0.0967741935483871\n",
      "2 : 0.8064516129032258\n",
      "3 : 0.8709677419354839\n",
      "4 : 0.03225806451612903\n",
      "5 : 0.6129032258064516\n",
      "6 : 0.2903225806451613\n",
      "7 : 0.3548387096774194\n",
      "8 : 0.5483870967741935\n",
      "9 : 0.0967741935483871\n",
      "El algoritmo congruencial m ultiplicativo surge del algoritmo congruencial lineal cuando c = 0\n"
     ]
    }
   ],
   "source": [
    "if __name__ == '__main__':\n",
    "    while(True):\n",
    "        print(\"El algoritmo congruencial m ultiplicativo surge del algoritmo congruencial lineal cuando c = 0\")\n",
    "        x0 = int(input(\"Inserta el valor semilla x0: \"))\n",
    "        a = 3 + 8*(int(input(\"Inserta una constante k que va a generar la constante multiplicativa a: \")))\n",
    "        m = 2 ** (int(input(\"Inserta la potencia de dos g que va a generar el número m: \")))\n",
    "        n = (m//4)-1\n",
    "        r = []\n",
    "        validar(x0,a,m)\n",
    "        imprimir()"
   ]
  }
 ],
 "metadata": {
  "kernelspec": {
   "display_name": "Python 3",
   "language": "python",
   "name": "python3"
  },
  "language_info": {
   "codemirror_mode": {
    "name": "ipython",
    "version": 3
   },
   "file_extension": ".py",
   "mimetype": "text/x-python",
   "name": "python",
   "nbconvert_exporter": "python",
   "pygments_lexer": "ipython3",
   "version": "3.6.3"
  }
 },
 "nbformat": 4,
 "nbformat_minor": 2
}
