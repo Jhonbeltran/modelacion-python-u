{
 "cells": [
  {
   "cell_type": "markdown",
   "metadata": {},
   "source": [
    "# Algoritmo Lineal"
   ]
  },
  {
   "cell_type": "code",
   "execution_count": 1,
   "metadata": {},
   "outputs": [],
   "source": [
    "def validar(x0,a,c,m):\n",
    "    while (x0<0):\n",
    "        x0  = int(input(\"Inserta un valor de semilla x0 positivo: \"))\n",
    "    while (a<0):\n",
    "        a  = int(input(\"Inserta un valor a positivo: \"))\n",
    "    while (c<0):\n",
    "        c  = int(input(\"Inserta un valor c positivo: \"))\n",
    "    while (m<0):\n",
    "        m  = int(input(\"Inserta un valor m positivo: \"))\n",
    "    generar(x0,a,c,m)  "
   ]
  },
  {
   "cell_type": "code",
   "execution_count": 2,
   "metadata": {},
   "outputs": [],
   "source": [
    "def generar(x0,a,c,m):\n",
    "    for i in range(n+1):\n",
    "        xi = ((a*x0)+c)%m\n",
    "        print(xi)\n",
    "        ri = xi/(m-1)\n",
    "        if(ri<0.0):\n",
    "            print(\"Error, la semilla no es valida para generar {} numeros aleatorios\".format(n+1))\n",
    "            semilla_insuficiente()\n",
    "            break\n",
    "        r.append(ri)\n",
    "        x0=xi"
   ]
  },
  {
   "cell_type": "code",
   "execution_count": 3,
   "metadata": {},
   "outputs": [],
   "source": [
    "def imprimir():\n",
    "    if(len(r)!=0):\n",
    "        print(\"Los {} números pseudoaleatorios son: \".format(n+1))\n",
    "    for idi, ri in enumerate(r):\n",
    "        print(\"{} : {}\".format(idi+1, ri))"
   ]
  },
  {
   "cell_type": "code",
   "execution_count": null,
   "metadata": {},
   "outputs": [
    {
     "name": "stdout",
     "output_type": "stream",
     "text": [
      "Inserta el valor semilla x0: 37\n",
      "Inserta una constante multiplicativa a: 19\n",
      "Inserta una constante multiplicativa c: 33\n",
      "Inserta el modulo: 100\n",
      "¿Cuantos números pseudoaleatorios desea?: 4\n",
      "36\n",
      "17\n",
      "56\n",
      "97\n",
      "Los 4 números pseudoaleatorios son: \n",
      "1 : 0.36363636363636365\n",
      "2 : 0.1717171717171717\n",
      "3 : 0.5656565656565656\n",
      "4 : 0.9797979797979798\n"
     ]
    }
   ],
   "source": [
    "if __name__ == '__main__':\n",
    "    while(True):\n",
    "        x0 = int(input(\"Inserta el valor semilla x0: \"))\n",
    "        a = int(input(\"Inserta una constante multiplicativa a: \"))\n",
    "        c = int(input(\"Inserta una constante multiplicativa c: \"))\n",
    "        m = int(input(\"Inserta el modulo: \"))\n",
    "        n = int(input(\"¿Cuantos números pseudoaleatorios desea?: \"))-1\n",
    "        r = []\n",
    "        validar(x0,a,c,m)\n",
    "        imprimir()"
   ]
  }
 ],
 "metadata": {
  "kernelspec": {
   "display_name": "Python 3",
   "language": "python",
   "name": "python3"
  },
  "language_info": {
   "codemirror_mode": {
    "name": "ipython",
    "version": 3
   },
   "file_extension": ".py",
   "mimetype": "text/x-python",
   "name": "python",
   "nbconvert_exporter": "python",
   "pygments_lexer": "ipython3",
   "version": "3.6.3"
  }
 },
 "nbformat": 4,
 "nbformat_minor": 2
}
