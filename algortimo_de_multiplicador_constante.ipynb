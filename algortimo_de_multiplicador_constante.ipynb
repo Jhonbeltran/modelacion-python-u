{
 "cells": [
  {
   "cell_type": "markdown",
   "metadata": {},
   "source": [
    "# Algoritmo de multiplicador constante"
   ]
  },
  {
   "cell_type": "code",
   "execution_count": 1,
   "metadata": {},
   "outputs": [],
   "source": [
    "def validar(x0,a,D):\n",
    "    while (D<3):\n",
    "        D  = int(input(\"Inserta una cantidad de digitos mayor a 3: \"))\n",
    "    while ((len([int(digit) for digit in str(x0)])!=(D))):\n",
    "        x0  = int(input(\"Inserta un valor de semilla x0 valido: \"))\n",
    "    while ((len([int(digit) for digit in str(a)])!=(D))):\n",
    "        a  = int(input(\"Inserta un valor de constante a valido: \"))\n",
    "    generar(x0, a)"
   ]
  },
  {
   "cell_type": "code",
   "execution_count": 2,
   "metadata": {},
   "outputs": [],
   "source": [
    "def generar(x0, a):\n",
    "    for i in range(n+1):\n",
    "        y0=a*x0\n",
    "        xi = int(digitos_centrales(str(y0),D))\n",
    "        ri = xi/10**D\n",
    "        if(ri<0.0):\n",
    "            print(\"Error, la semilla no es valida para generar {} numeros aleatorios\".format(n+1))\n",
    "            semilla_insuficiente()\n",
    "            break\n",
    "        r.append(ri)\n",
    "        x0=xi"
   ]
  },
  {
   "cell_type": "code",
   "execution_count": 3,
   "metadata": {},
   "outputs": [],
   "source": [
    "def digitos_centrales(s,k):\n",
    "    # Para asegurar que el número no sea negativo usamos el max(tupla)\n",
    "    m = max((len(s)-k)//2, 0) # El // es para que el resultado de la división sea entera\n",
    "    return s[m:m+k]"
   ]
  },
  {
   "cell_type": "code",
   "execution_count": 4,
   "metadata": {},
   "outputs": [],
   "source": [
    "def semilla_insuficiente():\n",
    "    x0  = int(input(\"Inserta un valor de semilla sin demasiados ceros: \"))\n",
    "    validar(x0)"
   ]
  },
  {
   "cell_type": "code",
   "execution_count": 5,
   "metadata": {},
   "outputs": [],
   "source": [
    "def imprimir():\n",
    "    if(len(r)!=0):\n",
    "        print(\"Los {} números pseudoaleatorios son: \".format(n+1))\n",
    "    for idi, ri in enumerate(r):\n",
    "        print(\"{} : {}\".format(idi+1, ri))"
   ]
  },
  {
   "cell_type": "code",
   "execution_count": null,
   "metadata": {},
   "outputs": [
    {
     "name": "stdout",
     "output_type": "stream",
     "text": [
      "Inserte la cantidad de D digitos: 4\n",
      "Inserta el valor semilla x0: 9803\n",
      "Inserta una constante a: 6965\n",
      "¿Cuantos números pseudoaleatorios desea?: 5\n",
      "Los 5 números pseudoaleatorios son: \n",
      "1 : 0.2778\n",
      "2 : 0.3487\n",
      "3 : 0.2869\n",
      "4 : 0.9825\n",
      "5 : 0.4311\n"
     ]
    }
   ],
   "source": [
    "if __name__ == '__main__':\n",
    "    D = int(input(\"Inserte la cantidad de D digitos: \"))\n",
    "    x0 = int(input(\"Inserta el valor semilla x0: \"))\n",
    "    a = int(input(\"Inserta una constante a: \"))\n",
    "    n = int(input(\"¿Cuantos números pseudoaleatorios desea?: \"))-1\n",
    "    r = []\n",
    "    validar(x0,a,D)\n",
    "    imprimir()"
   ]
  }
 ],
 "metadata": {
  "kernelspec": {
   "display_name": "Python 3",
   "language": "python",
   "name": "python3"
  },
  "language_info": {
   "codemirror_mode": {
    "name": "ipython",
    "version": 3
   },
   "file_extension": ".py",
   "mimetype": "text/x-python",
   "name": "python",
   "nbconvert_exporter": "python",
   "pygments_lexer": "ipython3",
   "version": "3.6.3"
  }
 },
 "nbformat": 4,
 "nbformat_minor": 2
}
